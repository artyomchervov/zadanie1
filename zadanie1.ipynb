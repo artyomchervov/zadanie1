{
  "nbformat": 4,
  "nbformat_minor": 0,
  "metadata": {
    "colab": {
      "name": "zadanie1.ipynb",
      "provenance": [],
      "collapsed_sections": [],
      "authorship_tag": "ABX9TyPYoJStUWJSqZ9nlGtOMT/3",
      "include_colab_link": true
    },
    "kernelspec": {
      "name": "python3",
      "display_name": "Python 3"
    },
    "accelerator": "GPU"
  },
  "cells": [
    {
      "cell_type": "markdown",
      "metadata": {
        "id": "view-in-github",
        "colab_type": "text"
      },
      "source": [
        "<a href=\"https://colab.research.google.com/github/artyomchervov/zadanie1/blob/master/zadanie1.ipynb\" target=\"_parent\"><img src=\"https://colab.research.google.com/assets/colab-badge.svg\" alt=\"Open In Colab\"/></a>"
      ]
    },
    {
      "cell_type": "markdown",
      "metadata": {
        "id": "HLKkZkOp_-Vo",
        "colab_type": "text"
      },
      "source": [
        "# Пример использования Markdown"
      ]
    },
    {
      "cell_type": "markdown",
      "metadata": {
        "id": "Y6N3zeJvAgFp",
        "colab_type": "text"
      },
      "source": [
        "Нужно сделать:\n",
        "1. Список\n",
        "2. Рисунок\n",
        "3. Таблицу\n",
        "4. Ссылку"
      ]
    },
    {
      "cell_type": "markdown",
      "metadata": {
        "id": "0gkuZAlECDGB",
        "colab_type": "text"
      },
      "source": [
        "![alt text](https://i.pinimg.com/236x/2a/09/ae/2a09aef467a3cd71a3d204662efc8ea0--drawings-of-animals-animal-sketches.jpg)\n"
      ]
    },
    {
      "cell_type": "markdown",
      "metadata": {
        "id": "PLf2fDE0Dj7G",
        "colab_type": "text"
      },
      "source": [
        "Первый игрок | Второй игрок\n",
        "-------- | --------\n",
        "17 | 24\n",
        "35 | 3"
      ]
    },
    {
      "cell_type": "markdown",
      "metadata": {
        "id": "pH6AXLO-Ei0N",
        "colab_type": "text"
      },
      "source": [
        "[Ссылка на поисковик Гугл][1]\n",
        "\n",
        "[1]: https://google.ru \"Гугл\""
      ]
    }
  ]
}